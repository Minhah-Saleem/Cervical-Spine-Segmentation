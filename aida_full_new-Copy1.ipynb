{
 "cells": [
  {
   "cell_type": "code",
   "execution_count": 2,
   "metadata": {},
   "outputs": [],
   "source": [
    "import os\n",
    "# import tensorflow as tf\n",
    "# tf.device('/gpu:3')\n",
    "os.environ['CUDA_VISIBLE_DEVICES'] = '1,2'\n",
    "\n",
    "from numpy.random import seed\n",
    "seed(42)\n",
    "import tensorflow\n",
    "tensorflow.random.set_seed(42)\n",
    "\n",
    "# from tensorflow.python.client import device_lib \n",
    "# print(device_lib.list_local_devices())"
   ]
  },
  {
   "cell_type": "code",
   "execution_count": 3,
   "metadata": {},
   "outputs": [],
   "source": [
    "## imports\n",
    "# import tensorflow.compat.v1 as tf\n",
    "\n",
    "# tf.disable_v2_behavior()\n",
    "# libraries\n",
    "import os\n",
    "import numpy as np\n",
    "\n",
    "# import matplotlib.pyplot as plt\n",
    "from tqdm import tqdm\n",
    "# custom\n",
    "\n",
    "# import data_utilities\n",
    "\n",
    "import tensorflow as tf\n",
    "from tensorflow import keras\n",
    "\n",
    "#import segmentation_models_3D as sm\n",
    "\n",
    "# from skimage import io\n",
    "# from patchify import patchify, unpatchify\n",
    "import numpy as np\n",
    "# from matplotlib import pyplot as plt\n",
    "from tensorflow.keras import backend as K\n",
    "from tensorflow.keras.utils import to_categorical\n",
    "\n",
    "import numpy as np\n",
    "from numpy import load\n",
    "import glob\n",
    "\n",
    "def one_hot(mask):\n",
    "    \n",
    "    mask1=mask.copy()\n",
    "    mask1=np.where(mask1==1,1,0)\n",
    "\n",
    "    mask2=mask.copy()\n",
    "    mask2=np.where(mask2==2,1,0)\n",
    "\n",
    "    mask3=mask.copy()\n",
    "    mask3=np.where(mask3==3,1,0)\n",
    "    mask4=mask.copy()\n",
    "    mask4=np.where(mask4==4,1,0)\n",
    "    \n",
    "    mask5=mask.copy()\n",
    "    mask5=np.where(mask5==5,1,0)\n",
    "    \n",
    "    mask6=mask.copy()\n",
    "    mask6=np.where(mask6==6,1,0)\n",
    "    \n",
    "    mask7=mask.copy()\n",
    "    mask7=np.where(mask7==7,1,0)\n",
    "    \n",
    "    mask8=mask.copy()\n",
    "    mask8=np.where(mask8>7,1,0)\n",
    "    \n",
    "    z, h, w = mask.shape\n",
    "    onehot_vol = np.zeros((z, h, w,8), dtype=np.int8)\n",
    "    \n",
    "    onehot_vol[:,:,:,0]=mask1\n",
    "    onehot_vol[:,:,:,1]=mask2\n",
    "    onehot_vol[:,:,:,2]=mask3\n",
    "    onehot_vol[:,:,:,3]=mask4\n",
    "    onehot_vol[:,:,:,4]=mask5\n",
    "    onehot_vol[:,:,:,5]=mask6\n",
    "    onehot_vol[:,:,:,6]=mask7\n",
    "    onehot_vol[:,:,:,7]=mask8\n",
    "    return onehot_vol"
   ]
  },
  {
   "cell_type": "code",
   "execution_count": 2,
   "metadata": {},
   "outputs": [
    {
     "ename": "NameError",
     "evalue": "name 'glob' is not defined",
     "output_type": "error",
     "traceback": [
      "\u001b[0;31m---------------------------------------------------------------------------\u001b[0m",
      "\u001b[0;31mNameError\u001b[0m                                 Traceback (most recent call last)",
      "\u001b[0;32m<ipython-input-2-51b05f8807a1>\u001b[0m in \u001b[0;36m<module>\u001b[0;34m\u001b[0m\n\u001b[1;32m      1\u001b[0m \u001b[0;34m\"/home/minha/AIDA/total_crops/\"\u001b[0m\u001b[0;34m\u001b[0m\u001b[0;34m\u001b[0m\u001b[0m\n\u001b[0;32m----> 2\u001b[0;31m \u001b[0mtrain_data_paths\u001b[0m\u001b[0;34m=\u001b[0m\u001b[0mglob\u001b[0m\u001b[0;34m.\u001b[0m\u001b[0mglob\u001b[0m\u001b[0;34m(\u001b[0m\u001b[0;34m\"/home/minha/AIDA/total_crops/training/images/*.npy\"\u001b[0m\u001b[0;34m)\u001b[0m\u001b[0;34m\u001b[0m\u001b[0;34m\u001b[0m\u001b[0m\n\u001b[0m\u001b[1;32m      3\u001b[0m \u001b[0mtrain_masks_paths\u001b[0m\u001b[0;34m=\u001b[0m\u001b[0mglob\u001b[0m\u001b[0;34m.\u001b[0m\u001b[0mglob\u001b[0m\u001b[0;34m(\u001b[0m\u001b[0;34m\"/home/minha/AIDA/total_crops/training/masks/*.npy\"\u001b[0m\u001b[0;34m)\u001b[0m\u001b[0;34m\u001b[0m\u001b[0;34m\u001b[0m\u001b[0m\n\u001b[1;32m      4\u001b[0m \u001b[0;34m\u001b[0m\u001b[0m\n\u001b[1;32m      5\u001b[0m \u001b[0;34m\u001b[0m\u001b[0m\n",
      "\u001b[0;31mNameError\u001b[0m: name 'glob' is not defined"
     ]
    }
   ],
   "source": [
    "\"/home/minha/AIDA/total_crops/\"\n",
    "train_data_paths=glob.glob(\"/home/minha/AIDA/total_crops/training/images/*.npy\")\n",
    "train_masks_paths=glob.glob(\"/home/minha/AIDA/total_crops/training/masks/*.npy\")\n",
    "\n",
    "\n",
    "valid_data_paths=glob.glob(\"/home/minha/AIDA/total_crops/validation/images/*.npy\")\n",
    "valid_masks_paths=glob.glob(\"/home/minha/AIDA/total_crops/validation/masks/*.npy\")\n",
    "\n",
    "\n",
    "images_batch = []\n",
    "masks_batch = []\n",
    "flg = 0\n",
    "for i in tqdm(range(len(train_data_paths))):\n",
    "    \n",
    "    mask = load(train_masks_paths[i])\n",
    "#     temp=np.unique(mask)\n",
    "# #     print(temp)\n",
    "#     temp=np.where(temp==0.0,12.0,temp)\n",
    "#     temp=np.where(temp>7.0,0.0,1.0)\n",
    "    \n",
    "    \n",
    "#     if sum(temp)>1.:\n",
    "    image = load(train_data_paths[i])\n",
    "\n",
    "    image=image.reshape(128,128,128,1)\n",
    "\n",
    "    images_batch.append(image)\n",
    "    mask=one_hot(mask)\n",
    "    masks_batch.append(mask)\n",
    "\n",
    "        \n",
    "images_valid = []\n",
    "masks_valid = []\n",
    "\n",
    "\n",
    "for i in tqdm(range(len(valid_data_paths))):\n",
    "    \n",
    "    mask = load(valid_masks_paths[i])\n",
    "#     temp=np.unique(mask)\n",
    "    \n",
    "#     temp=np.where(temp==0.0,12.0,temp)\n",
    "#     temp=np.where(temp>7.0,0.0,1.0)\n",
    "    \n",
    "#     if sum(temp)>1.:\n",
    "    image = load(valid_data_paths[i])\n",
    "\n",
    "\n",
    "#     images_batch.append(image)\n",
    "    mask=one_hot(mask)\n",
    "    image=image.reshape(128,128,128,1)\n",
    "\n",
    "    images_valid.append(image)\n",
    "    masks_valid.append(mask)"
   ]
  },
  {
   "cell_type": "code",
   "execution_count": 3,
   "metadata": {},
   "outputs": [
    {
     "data": {
      "text/plain": [
       "(128, 128, 128, 8)"
      ]
     },
     "execution_count": 3,
     "metadata": {},
     "output_type": "execute_result"
    }
   ],
   "source": [
    "masks_valid[0].shape"
   ]
  },
  {
   "cell_type": "code",
   "execution_count": 4,
   "metadata": {},
   "outputs": [],
   "source": [
    "# Loss Function and coefficients to be used during training:\n",
    "# def dice_coefficient(y_true, y_pred):\n",
    "#     smoothing_factor = 1\n",
    "#     flat_y_true = K.flatten(y_true)\n",
    "#     flat_y_pred = K.flatten(y_pred)\n",
    "#     return (2. * K.sum(flat_y_true * flat_y_pred) + smoothing_factor) / (K.sum(flat_y_true) + K.sum(flat_y_pred) + smoothing_factor)\n",
    "def dice_coe(y_true,y_pred, loss_type='jaccard', smooth=1.):\n",
    "\n",
    "    y_true_f = tf.reshape(y_true,[-1])\n",
    "    y_pred_f = tf.reshape(y_pred,[-1])\n",
    "\n",
    "    intersection = tf.reduce_sum(y_true_f * y_pred_f)\n",
    "\n",
    "    if loss_type == 'jaccard':\n",
    "        union = tf.reduce_sum(tf.square(y_pred_f)) + tf.reduce_sum(tf.square(y_true_f))\n",
    "\n",
    "    elif loss_type == 'sorensen':\n",
    "        union = tf.reduce_sum(y_pred_f) + tf.reduce_sum(y_true_f)\n",
    "\n",
    "    else:\n",
    "        raise ValueError(\"Unknown `loss_type`: %s\" % loss_type)\n",
    "\n",
    "    return (2. * intersection + smooth) / (union + smooth)\n",
    "\n",
    "# def dice_coefficient_loss(y_true, y_pred):\n",
    "#     return 1 - dice_coefficient(y_true, y_pred)\n",
    "def dice_loss(y_true,y_pred, loss_type='jaccard', smooth=1.):\n",
    "\n",
    "    y_true_f = tf.cast(tf.reshape(y_true,[-1]),tf.float32)\n",
    "    y_pred_f =tf.cast(tf.reshape(y_pred,[-1]),tf.float32)\n",
    "\n",
    "    intersection = tf.reduce_sum(y_true_f * y_pred_f)\n",
    "\n",
    "    if loss_type == 'jaccard':\n",
    "        union = tf.reduce_sum(tf.square(y_pred_f)) + tf.reduce_sum(tf.square(y_true_f))\n",
    "\n",
    "    elif loss_type == 'sorensen':\n",
    "        union = tf.reduce_sum(y_pred_f) + tf.reduce_sum(y_true_f)\n",
    "\n",
    "    else:\n",
    "        raise ValueError(\"Unknown `loss_type`: %s\" % loss_type)\n",
    "\n",
    "    return (1-(2. * intersection + smooth) / (union + smooth))\n",
    "\n",
    "#Define parameters for our model.\n",
    "\n",
    "# encoder_weights = 'imagenet'\n",
    "# BACKBONE = 'vgg16'  #Try vgg16, efficientnetb7, inceptionv3, resnet50\n",
    "activation = 'sigmoid'\n",
    "patch_size_x =128 #128# 128 160, 96, 64\n",
    "patch_size_y =128 #96# 102\n",
    "patch_size_z =128# 68\n",
    "n_classes = 7\n",
    "# channels=3\n",
    "channels=1\n",
    "\n",
    "LR = 0.0001\n",
    "optim = tf.keras.optimizers.Adam(LR)"
   ]
  },
  {
   "cell_type": "code",
   "execution_count": 5,
   "metadata": {},
   "outputs": [],
   "source": [
    "from tensorflow.keras.models import Model\n",
    "from tensorflow.keras.optimizers import Adam\n",
    "from tensorflow.keras.layers import Conv3D, Input, MaxPooling3D, Dropout, concatenate, UpSampling3D, BatchNormalization\n",
    "import tensorflow as tf\n",
    "\n",
    "def Unet3D(inputs,num_classes):\n",
    "    x=inputs\n",
    "    conv1 = Conv3D(8, 3, activation = 'relu', padding = 'same',data_format=\"channels_last\")(x)\n",
    "    conv1= BatchNormalization()(conv1)\n",
    "    conv1 = Conv3D(8, 3, activation = 'relu', padding = 'same')(conv1)\n",
    "    conv1= BatchNormalization()(conv1)\n",
    "    pool1 = MaxPooling3D(pool_size=(2, 2, 2))(conv1)\n",
    "    conv2 = Conv3D(16, 3, activation = 'relu', padding = 'same')(pool1)\n",
    "    conv2= BatchNormalization()(conv2)\n",
    "    conv2 = Conv3D(16, 3, activation = 'relu', padding = 'same')(conv2)\n",
    "    conv2= BatchNormalization()(conv2)\n",
    "    pool2 = MaxPooling3D(pool_size=(2, 2, 2))(conv2)\n",
    "    conv3 = Conv3D(32, 3, activation = 'relu', padding = 'same')(pool2)\n",
    "    conv3= BatchNormalization()(conv3)\n",
    "    conv3 = Conv3D(32, 3, activation = 'relu', padding = 'same')(conv3)\n",
    "    conv3= BatchNormalization()(conv3)\n",
    "    pool3 = MaxPooling3D(pool_size=(2, 2, 2))(conv3)\n",
    "    conv4 = Conv3D(64, 3, activation = 'relu', padding = 'same')(pool3)\n",
    "    conv4= BatchNormalization()(conv4)\n",
    "    conv4 = Conv3D(64, 3, activation = 'relu', padding = 'same')(conv4)\n",
    "    conv4= BatchNormalization()(conv4)\n",
    "    drop4 = Dropout(0.01)(conv4)\n",
    "    pool4 = MaxPooling3D(pool_size=(2, 2, 2))(drop4)\n",
    "\n",
    "    conv5 = Conv3D(128, 3, activation = 'relu', padding = 'same')(pool4)\n",
    "    conv5= BatchNormalization()(conv5)\n",
    "    conv5 = Conv3D(128, 3, activation = 'relu', padding = 'same')(conv5)\n",
    "    conv5= BatchNormalization()(conv5)\n",
    "    drop5 = Dropout(0.01)(conv5)\n",
    "\n",
    "    up6 = Conv3D(64, 2, activation = 'relu', padding = 'same')(UpSampling3D(size = (2,2,2))(drop5))\n",
    "    up6= BatchNormalization()(up6)\n",
    "    merge6 = concatenate([drop4,up6],axis=-1)\n",
    "    conv6 = Conv3D(64, 3, activation = 'relu', padding = 'same')(merge6)\n",
    "    conv6= BatchNormalization()(conv6)\n",
    "    conv6 = Conv3D(64, 3, activation = 'relu', padding = 'same')(conv6)\n",
    "    conv6= BatchNormalization()(conv6)\n",
    "\n",
    "    up7 = Conv3D(32, 2, activation = 'relu', padding = 'same')(UpSampling3D(size = (2,2,2))(conv6))\n",
    "    up7= BatchNormalization()(up7)\n",
    "    merge7 = concatenate([conv3,up7],axis=-1)\n",
    "    conv7 = Conv3D(32, 3, activation = 'relu', padding = 'same')(merge7)\n",
    "    conv7= BatchNormalization()(conv7)\n",
    "    conv7 = Conv3D(32, 3, activation = 'relu', padding = 'same')(conv7)\n",
    "    conv7= BatchNormalization()(conv7)\n",
    "\n",
    "    up8 = Conv3D(16, 2, activation = 'relu', padding = 'same')(UpSampling3D(size = (2,2,2))(conv7))\n",
    "    up8= BatchNormalization()(up8)\n",
    "    merge8 = concatenate([conv2,up8],axis=-1)\n",
    "    conv8 = Conv3D(16, 3, activation = 'relu', padding = 'same')(merge8)\n",
    "    conv8= BatchNormalization()(conv8)\n",
    "    conv8 = Conv3D(16, 3, activation = 'relu', padding = 'same')(conv8)\n",
    "    conv8= BatchNormalization()(conv8)\n",
    "\n",
    "    up9 = Conv3D(8, 2, activation = 'relu', padding = 'same')(UpSampling3D(size = (2,2,2))(conv8))\n",
    "    up9= BatchNormalization()(up9)\n",
    "    merge9 = concatenate([conv1,up9],axis=-1)\n",
    "    conv9 = Conv3D(8, 3, activation = 'relu', padding = 'same')(merge9)\n",
    "    conv9= BatchNormalization()(conv9)\n",
    "    conv9 = Conv3D(8, 3, activation = 'relu', padding = 'same')(conv9)\n",
    "    conv9= BatchNormalization()(conv9)\n",
    "#     conv10 = Conv3D(1, 1, activation = 'sigmoid')(conv9)\n",
    "    conv10 = Conv3D(8, 1, activation = 'sigmoid')(conv9)\n",
    "    model = Model(inputs=inputs, outputs = conv10)\n",
    "    #model.compile(optimizer = Adam(lr = 1e-4), loss = 'binary_crossentropy', metrics = ['accuracy'])\n",
    "    return model"
   ]
  },
  {
   "cell_type": "code",
   "execution_count": 6,
   "metadata": {},
   "outputs": [],
   "source": [
    "inputs = tf.keras.Input(shape=(patch_size_x,patch_size_y,patch_size_z, channels))\n",
    "\n",
    "Model_3D = Unet3D(inputs,num_classes=n_classes)"
   ]
  },
  {
   "cell_type": "code",
   "execution_count": 5,
   "metadata": {},
   "outputs": [
    {
     "name": "stdout",
     "output_type": "stream",
     "text": [
      "WARNING:tensorflow:Some requested devices in `tf.distribute.Strategy` are not visible to TensorFlow: /job:localhost/replica:0/task:0/device:GPU:2,/job:localhost/replica:0/task:0/device:GPU:1\n",
      "INFO:tensorflow:Using MirroredStrategy with devices ('/job:localhost/replica:0/task:0/device:GPU:1', '/job:localhost/replica:0/task:0/device:GPU:2')\n",
      "INFO:tensorflow:Reduce to /job:localhost/replica:0/task:0/device:CPU:0 then broadcast to ('/job:localhost/replica:0/task:0/device:CPU:0',).\n",
      "INFO:tensorflow:Reduce to /job:localhost/replica:0/task:0/device:CPU:0 then broadcast to ('/job:localhost/replica:0/task:0/device:CPU:0',).\n",
      "INFO:tensorflow:Reduce to /job:localhost/replica:0/task:0/device:CPU:0 then broadcast to ('/job:localhost/replica:0/task:0/device:CPU:0',).\n",
      "INFO:tensorflow:Reduce to /job:localhost/replica:0/task:0/device:CPU:0 then broadcast to ('/job:localhost/replica:0/task:0/device:CPU:0',).\n",
      "INFO:tensorflow:Reduce to /job:localhost/replica:0/task:0/device:CPU:0 then broadcast to ('/job:localhost/replica:0/task:0/device:CPU:0',).\n",
      "INFO:tensorflow:Reduce to /job:localhost/replica:0/task:0/device:CPU:0 then broadcast to ('/job:localhost/replica:0/task:0/device:CPU:0',).\n",
      "INFO:tensorflow:Reduce to /job:localhost/replica:0/task:0/device:CPU:0 then broadcast to ('/job:localhost/replica:0/task:0/device:CPU:0',).\n",
      "INFO:tensorflow:Reduce to /job:localhost/replica:0/task:0/device:CPU:0 then broadcast to ('/job:localhost/replica:0/task:0/device:CPU:0',).\n",
      "INFO:tensorflow:Reduce to /job:localhost/replica:0/task:0/device:CPU:0 then broadcast to ('/job:localhost/replica:0/task:0/device:CPU:0',).\n",
      "INFO:tensorflow:Reduce to /job:localhost/replica:0/task:0/device:CPU:0 then broadcast to ('/job:localhost/replica:0/task:0/device:CPU:0',).\n",
      "Model: \"model\"\n",
      "__________________________________________________________________________________________________\n",
      "Layer (type)                    Output Shape         Param #     Connected to                     \n",
      "==================================================================================================\n",
      "input_1 (InputLayer)            [(None, 128, 128, 12 0                                            \n",
      "__________________________________________________________________________________________________\n",
      "conv3d (Conv3D)                 (None, 128, 128, 128 224         input_1[0][0]                    \n",
      "__________________________________________________________________________________________________\n",
      "batch_normalization (BatchNorma (None, 128, 128, 128 32          conv3d[0][0]                     \n",
      "__________________________________________________________________________________________________\n",
      "conv3d_1 (Conv3D)               (None, 128, 128, 128 1736        batch_normalization[0][0]        \n",
      "__________________________________________________________________________________________________\n",
      "batch_normalization_1 (BatchNor (None, 128, 128, 128 32          conv3d_1[0][0]                   \n",
      "__________________________________________________________________________________________________\n",
      "max_pooling3d (MaxPooling3D)    (None, 64, 64, 64, 8 0           batch_normalization_1[0][0]      \n",
      "__________________________________________________________________________________________________\n",
      "conv3d_2 (Conv3D)               (None, 64, 64, 64, 1 3472        max_pooling3d[0][0]              \n",
      "__________________________________________________________________________________________________\n",
      "batch_normalization_2 (BatchNor (None, 64, 64, 64, 1 64          conv3d_2[0][0]                   \n",
      "__________________________________________________________________________________________________\n",
      "conv3d_3 (Conv3D)               (None, 64, 64, 64, 1 6928        batch_normalization_2[0][0]      \n",
      "__________________________________________________________________________________________________\n",
      "batch_normalization_3 (BatchNor (None, 64, 64, 64, 1 64          conv3d_3[0][0]                   \n",
      "__________________________________________________________________________________________________\n",
      "max_pooling3d_1 (MaxPooling3D)  (None, 32, 32, 32, 1 0           batch_normalization_3[0][0]      \n",
      "__________________________________________________________________________________________________\n",
      "conv3d_4 (Conv3D)               (None, 32, 32, 32, 3 13856       max_pooling3d_1[0][0]            \n",
      "__________________________________________________________________________________________________\n",
      "batch_normalization_4 (BatchNor (None, 32, 32, 32, 3 128         conv3d_4[0][0]                   \n",
      "__________________________________________________________________________________________________\n",
      "conv3d_5 (Conv3D)               (None, 32, 32, 32, 3 27680       batch_normalization_4[0][0]      \n",
      "__________________________________________________________________________________________________\n",
      "batch_normalization_5 (BatchNor (None, 32, 32, 32, 3 128         conv3d_5[0][0]                   \n",
      "__________________________________________________________________________________________________\n",
      "max_pooling3d_2 (MaxPooling3D)  (None, 16, 16, 16, 3 0           batch_normalization_5[0][0]      \n",
      "__________________________________________________________________________________________________\n",
      "conv3d_6 (Conv3D)               (None, 16, 16, 16, 6 55360       max_pooling3d_2[0][0]            \n",
      "__________________________________________________________________________________________________\n",
      "batch_normalization_6 (BatchNor (None, 16, 16, 16, 6 256         conv3d_6[0][0]                   \n",
      "__________________________________________________________________________________________________\n",
      "conv3d_7 (Conv3D)               (None, 16, 16, 16, 6 110656      batch_normalization_6[0][0]      \n",
      "__________________________________________________________________________________________________\n",
      "batch_normalization_7 (BatchNor (None, 16, 16, 16, 6 256         conv3d_7[0][0]                   \n",
      "__________________________________________________________________________________________________\n",
      "dropout (Dropout)               (None, 16, 16, 16, 6 0           batch_normalization_7[0][0]      \n",
      "__________________________________________________________________________________________________\n",
      "max_pooling3d_3 (MaxPooling3D)  (None, 8, 8, 8, 64)  0           dropout[0][0]                    \n",
      "__________________________________________________________________________________________________\n",
      "conv3d_8 (Conv3D)               (None, 8, 8, 8, 128) 221312      max_pooling3d_3[0][0]            \n",
      "__________________________________________________________________________________________________\n",
      "batch_normalization_8 (BatchNor (None, 8, 8, 8, 128) 512         conv3d_8[0][0]                   \n",
      "__________________________________________________________________________________________________\n",
      "conv3d_9 (Conv3D)               (None, 8, 8, 8, 128) 442496      batch_normalization_8[0][0]      \n",
      "__________________________________________________________________________________________________\n",
      "batch_normalization_9 (BatchNor (None, 8, 8, 8, 128) 512         conv3d_9[0][0]                   \n",
      "__________________________________________________________________________________________________\n",
      "dropout_1 (Dropout)             (None, 8, 8, 8, 128) 0           batch_normalization_9[0][0]      \n",
      "__________________________________________________________________________________________________\n",
      "up_sampling3d (UpSampling3D)    (None, 16, 16, 16, 1 0           dropout_1[0][0]                  \n",
      "__________________________________________________________________________________________________\n",
      "conv3d_10 (Conv3D)              (None, 16, 16, 16, 6 65600       up_sampling3d[0][0]              \n",
      "__________________________________________________________________________________________________\n",
      "batch_normalization_10 (BatchNo (None, 16, 16, 16, 6 256         conv3d_10[0][0]                  \n",
      "__________________________________________________________________________________________________\n",
      "concatenate (Concatenate)       (None, 16, 16, 16, 1 0           dropout[0][0]                    \n",
      "                                                                 batch_normalization_10[0][0]     \n",
      "__________________________________________________________________________________________________\n",
      "conv3d_11 (Conv3D)              (None, 16, 16, 16, 6 221248      concatenate[0][0]                \n",
      "__________________________________________________________________________________________________\n",
      "batch_normalization_11 (BatchNo (None, 16, 16, 16, 6 256         conv3d_11[0][0]                  \n",
      "__________________________________________________________________________________________________\n",
      "conv3d_12 (Conv3D)              (None, 16, 16, 16, 6 110656      batch_normalization_11[0][0]     \n",
      "__________________________________________________________________________________________________\n",
      "batch_normalization_12 (BatchNo (None, 16, 16, 16, 6 256         conv3d_12[0][0]                  \n",
      "__________________________________________________________________________________________________\n",
      "up_sampling3d_1 (UpSampling3D)  (None, 32, 32, 32, 6 0           batch_normalization_12[0][0]     \n",
      "__________________________________________________________________________________________________\n",
      "conv3d_13 (Conv3D)              (None, 32, 32, 32, 3 16416       up_sampling3d_1[0][0]            \n",
      "__________________________________________________________________________________________________\n",
      "batch_normalization_13 (BatchNo (None, 32, 32, 32, 3 128         conv3d_13[0][0]                  \n",
      "__________________________________________________________________________________________________\n",
      "concatenate_1 (Concatenate)     (None, 32, 32, 32, 6 0           batch_normalization_5[0][0]      \n",
      "                                                                 batch_normalization_13[0][0]     \n",
      "__________________________________________________________________________________________________\n",
      "conv3d_14 (Conv3D)              (None, 32, 32, 32, 3 55328       concatenate_1[0][0]              \n",
      "__________________________________________________________________________________________________\n",
      "batch_normalization_14 (BatchNo (None, 32, 32, 32, 3 128         conv3d_14[0][0]                  \n",
      "__________________________________________________________________________________________________\n",
      "conv3d_15 (Conv3D)              (None, 32, 32, 32, 3 27680       batch_normalization_14[0][0]     \n",
      "__________________________________________________________________________________________________\n",
      "batch_normalization_15 (BatchNo (None, 32, 32, 32, 3 128         conv3d_15[0][0]                  \n",
      "__________________________________________________________________________________________________\n",
      "up_sampling3d_2 (UpSampling3D)  (None, 64, 64, 64, 3 0           batch_normalization_15[0][0]     \n",
      "__________________________________________________________________________________________________\n",
      "conv3d_16 (Conv3D)              (None, 64, 64, 64, 1 4112        up_sampling3d_2[0][0]            \n",
      "__________________________________________________________________________________________________\n",
      "batch_normalization_16 (BatchNo (None, 64, 64, 64, 1 64          conv3d_16[0][0]                  \n",
      "__________________________________________________________________________________________________\n",
      "concatenate_2 (Concatenate)     (None, 64, 64, 64, 3 0           batch_normalization_3[0][0]      \n",
      "                                                                 batch_normalization_16[0][0]     \n",
      "__________________________________________________________________________________________________\n",
      "conv3d_17 (Conv3D)              (None, 64, 64, 64, 1 13840       concatenate_2[0][0]              \n",
      "__________________________________________________________________________________________________\n",
      "batch_normalization_17 (BatchNo (None, 64, 64, 64, 1 64          conv3d_17[0][0]                  \n",
      "__________________________________________________________________________________________________\n",
      "conv3d_18 (Conv3D)              (None, 64, 64, 64, 1 6928        batch_normalization_17[0][0]     \n",
      "__________________________________________________________________________________________________\n",
      "batch_normalization_18 (BatchNo (None, 64, 64, 64, 1 64          conv3d_18[0][0]                  \n",
      "__________________________________________________________________________________________________\n",
      "up_sampling3d_3 (UpSampling3D)  (None, 128, 128, 128 0           batch_normalization_18[0][0]     \n",
      "__________________________________________________________________________________________________\n",
      "conv3d_19 (Conv3D)              (None, 128, 128, 128 1032        up_sampling3d_3[0][0]            \n",
      "__________________________________________________________________________________________________\n",
      "batch_normalization_19 (BatchNo (None, 128, 128, 128 32          conv3d_19[0][0]                  \n",
      "__________________________________________________________________________________________________\n",
      "concatenate_3 (Concatenate)     (None, 128, 128, 128 0           batch_normalization_1[0][0]      \n",
      "                                                                 batch_normalization_19[0][0]     \n",
      "__________________________________________________________________________________________________\n",
      "conv3d_20 (Conv3D)              (None, 128, 128, 128 3464        concatenate_3[0][0]              \n",
      "__________________________________________________________________________________________________\n",
      "batch_normalization_20 (BatchNo (None, 128, 128, 128 32          conv3d_20[0][0]                  \n",
      "__________________________________________________________________________________________________\n",
      "conv3d_21 (Conv3D)              (None, 128, 128, 128 1736        batch_normalization_20[0][0]     \n",
      "__________________________________________________________________________________________________\n",
      "batch_normalization_21 (BatchNo (None, 128, 128, 128 32          conv3d_21[0][0]                  \n",
      "__________________________________________________________________________________________________\n",
      "conv3d_22 (Conv3D)              (None, 128, 128, 128 72          batch_normalization_21[0][0]     \n",
      "==================================================================================================\n",
      "Total params: 1,415,256\n",
      "Trainable params: 1,413,544\n",
      "Non-trainable params: 1,712\n",
      "__________________________________________________________________________________________________\n"
     ]
    }
   ],
   "source": [
    "mirrored_strategy = tf.distribute.MirroredStrategy(devices=[\"/gpu:1\",\"/gpu:2\"]) #\n",
    "# mirrored_strategy=tf.distribute.MirroredStrategy()\n",
    "# inputs = tf.keras.Input(shape=(patch_size_x,patch_size_y,patch_size_z, channels))\n",
    "# Model_3D = Unet3D(inputs,num_classes=n_classes)\n",
    "# Model_3D.compile(optimizer=optim, loss=dice_loss, metrics=[dice_coe])\n",
    "# mirrored_strategy = tf.distribute.MirroredStrategy(devices= [\"/gpu:1\",\"/gpu:2\"],cross_device_ops=tf.distribute.HierarchicalCopyAllReduce())\n",
    "with mirrored_strategy.scope():\n",
    "    inputs = tf.keras.Input(shape=(patch_size_x,patch_size_y,patch_size_z, channels))\n",
    "    Model_3D = Unet3D(inputs,num_classes=n_classes)\n",
    "    Model_3D.compile(optimizer=optim, loss=dice_loss, metrics=[dice_coe])\n",
    "Model_3D.summary()"
   ]
  },
  {
   "cell_type": "code",
   "execution_count": 7,
   "metadata": {},
   "outputs": [],
   "source": [
    "import os\n",
    "import numpy as np\n",
    "# import cv2\n",
    "from tensorflow.keras.utils import Sequence\n",
    "from tensorflow.keras import backend as K\n",
    "\n",
    "\n",
    "\n",
    "def parse_image(img_path, image_size):\n",
    "# def parse_image(img_rgb, image_size):\n",
    "    image_rgb = np.load(img_path)\n",
    "#     image_rgb=image_rgb[0:image_size,0:image_size,0:image_size]\n",
    "    train_img = np.stack((image_rgb,)*3, axis=-1)\n",
    "#     h, w, _ = image_rgb.shape\n",
    "#     if (h == image_size) and (w == image_size):\n",
    "#         pass\n",
    "#     else:\n",
    "#         image_rgb = cv2.resize(image_rgb, (image_size, image_size))\n",
    "#     image_rgb = image_rgb/255.0\n",
    "#     image_rgb = image_rgb.astype(np.float32)\n",
    "    return train_img\n",
    "\n",
    "def parse_mask(mask_path, image_size):\n",
    "    mask = np.load(mask_path)\n",
    "#     mask=mask[0:image_size,0:image_size,0:image_size]\n",
    "    mask = np.where(mask==0,mask,1)\n",
    "    train_mask = np.expand_dims(mask, axis=3)\n",
    "#     h, w = mask.shape\n",
    "#     if (h == image_size) and (w == image_size):\n",
    "#         pass\n",
    "#     else:\n",
    "#         mask = cv2.resize(mask, (image_size, image_size))\n",
    "#     mask = mask.astype(np.float32)\n",
    "#     mask = np.expand_dims(mask, -1)\n",
    "#     mask = mask/255.0\n",
    "\n",
    "    return train_mask\n",
    "\n",
    "\n",
    "class DataGen(Sequence):\n",
    "    def __init__(self, image_size, images_path, masks_path, batch_size=8):\n",
    "        self.image_size = image_size\n",
    "        self.images_path = images_path\n",
    "        self.masks_path = masks_path\n",
    "        self.batch_size = batch_size\n",
    "        self.on_epoch_end()\n",
    "\n",
    "    def __getitem__(self, index):\n",
    "        if(index+1)*self.batch_size > len(self.images_path):\n",
    "            self.batch_size = len(self.images_path) - index*self.batch_size\n",
    "\n",
    "        images_path = self.images_path[index*self.batch_size : (index+1)*self.batch_size]\n",
    "        masks_path = self.masks_path[index*self.batch_size : (index+1)*self.batch_size]\n",
    "\n",
    "        images_batch = []\n",
    "        masks_batch = []\n",
    "\n",
    "        for i in range(len(images_path)):\n",
    "            image=images_path[i]\n",
    "            mask=masks_path[i]\n",
    "            images_batch.append(image)\n",
    "            masks_batch.append(mask)\n",
    "#         print(np.array(images_batch).shape)\n",
    "#         print(np.array(masks_batch).shape)\n",
    "            \n",
    "        return np.array(images_batch), np.array(masks_batch)\n",
    "\n",
    "    def on_epoch_end(self):\n",
    "        pass\n",
    "\n",
    "    def __len__(self):\n",
    "        return int(np.ceil(len(self.images_path)/float(self.batch_size)))\n",
    "    \n",
    "    "
   ]
  },
  {
   "cell_type": "code",
   "execution_count": 7,
   "metadata": {},
   "outputs": [],
   "source": [
    "image_size = 128\n",
    "batch_size = 2\n",
    "\n",
    "epochs = 100\n",
    "\n",
    "train_steps = len(images_batch)//batch_size\n",
    "valid_steps = len(images_valid)//batch_size\n",
    "\n",
    "## Generator\n",
    "train_gen = DataGen(image_size,images_batch,masks_batch, batch_size=batch_size)\n",
    "valid_gen = DataGen(image_size,images_valid, masks_valid, batch_size=batch_size)"
   ]
  },
  {
   "cell_type": "code",
   "execution_count": 8,
   "metadata": {},
   "outputs": [
    {
     "name": "stdout",
     "output_type": "stream",
     "text": [
      "Epoch 1/200\n",
      "INFO:tensorflow:Reduce to /job:localhost/replica:0/task:0/device:GPU:1 then broadcast to ('/job:localhost/replica:0/task:0/device:GPU:1', '/job:localhost/replica:0/task:0/device:GPU:0').\n",
      "INFO:tensorflow:Reduce to /job:localhost/replica:0/task:0/device:GPU:1 then broadcast to ('/job:localhost/replica:0/task:0/device:GPU:1', '/job:localhost/replica:0/task:0/device:GPU:0').\n",
      "INFO:tensorflow:Reduce to /job:localhost/replica:0/task:0/device:GPU:1 then broadcast to ('/job:localhost/replica:0/task:0/device:GPU:1', '/job:localhost/replica:0/task:0/device:GPU:0').\n",
      "INFO:tensorflow:Reduce to /job:localhost/replica:0/task:0/device:GPU:1 then broadcast to ('/job:localhost/replica:0/task:0/device:GPU:1', '/job:localhost/replica:0/task:0/device:GPU:0').\n",
      "INFO:tensorflow:Reduce to /job:localhost/replica:0/task:0/device:GPU:1 then broadcast to ('/job:localhost/replica:0/task:0/device:GPU:1', '/job:localhost/replica:0/task:0/device:GPU:0').\n",
      "INFO:tensorflow:Reduce to /job:localhost/replica:0/task:0/device:GPU:1 then broadcast to ('/job:localhost/replica:0/task:0/device:GPU:1', '/job:localhost/replica:0/task:0/device:GPU:0').\n",
      "INFO:tensorflow:Reduce to /job:localhost/replica:0/task:0/device:GPU:1 then broadcast to ('/job:localhost/replica:0/task:0/device:GPU:1', '/job:localhost/replica:0/task:0/device:GPU:0').\n",
      "INFO:tensorflow:Reduce to /job:localhost/replica:0/task:0/device:GPU:1 then broadcast to ('/job:localhost/replica:0/task:0/device:GPU:1', '/job:localhost/replica:0/task:0/device:GPU:0').\n",
      "INFO:tensorflow:Reduce to /job:localhost/replica:0/task:0/device:GPU:1 then broadcast to ('/job:localhost/replica:0/task:0/device:GPU:1', '/job:localhost/replica:0/task:0/device:GPU:0').\n",
      "INFO:tensorflow:Reduce to /job:localhost/replica:0/task:0/device:GPU:1 then broadcast to ('/job:localhost/replica:0/task:0/device:GPU:1', '/job:localhost/replica:0/task:0/device:GPU:0').\n",
      "60/60 [==============================] - 19s 322ms/step - loss: 0.9430 - dice_coe: 0.0570 - val_loss: 0.9326 - val_dice_coe: 0.0674\n",
      "Epoch 2/200\n",
      "60/60 [==============================] - 17s 288ms/step - loss: 0.9262 - dice_coe: 0.0738 - val_loss: 0.9202 - val_dice_coe: 0.0798\n",
      "Epoch 3/200\n",
      "60/60 [==============================] - 17s 288ms/step - loss: 0.9200 - dice_coe: 0.0800 - val_loss: 0.9166 - val_dice_coe: 0.0834\n",
      "Epoch 4/200\n",
      "60/60 [==============================] - 17s 289ms/step - loss: 0.9166 - dice_coe: 0.0834 - val_loss: 0.9144 - val_dice_coe: 0.0856\n",
      "Epoch 5/200\n",
      "60/60 [==============================] - 17s 289ms/step - loss: 0.9140 - dice_coe: 0.0860 - val_loss: 0.9118 - val_dice_coe: 0.0882\n",
      "Epoch 6/200\n",
      "60/60 [==============================] - 17s 289ms/step - loss: 0.9118 - dice_coe: 0.0882 - val_loss: 0.9094 - val_dice_coe: 0.0906\n",
      "Epoch 7/200\n",
      "60/60 [==============================] - 17s 289ms/step - loss: 0.9097 - dice_coe: 0.0903 - val_loss: 0.9073 - val_dice_coe: 0.0927\n",
      "Epoch 8/200\n",
      "60/60 [==============================] - 17s 288ms/step - loss: 0.9077 - dice_coe: 0.0923 - val_loss: 0.9044 - val_dice_coe: 0.0956\n",
      "Epoch 9/200\n",
      "60/60 [==============================] - 17s 288ms/step - loss: 0.9054 - dice_coe: 0.0946 - val_loss: 0.9020 - val_dice_coe: 0.0980\n",
      "Epoch 10/200\n",
      "60/60 [==============================] - 17s 289ms/step - loss: 0.9032 - dice_coe: 0.0968 - val_loss: 0.9003 - val_dice_coe: 0.0997\n",
      "Epoch 11/200\n",
      "60/60 [==============================] - 17s 288ms/step - loss: 0.9008 - dice_coe: 0.0992 - val_loss: 0.8978 - val_dice_coe: 0.1022\n",
      "Epoch 12/200\n",
      "60/60 [==============================] - 17s 288ms/step - loss: 0.8984 - dice_coe: 0.1016 - val_loss: 0.8953 - val_dice_coe: 0.1047\n",
      "Epoch 13/200\n",
      "60/60 [==============================] - 17s 288ms/step - loss: 0.8957 - dice_coe: 0.1043 - val_loss: 0.8934 - val_dice_coe: 0.1066\n",
      "Epoch 14/200\n",
      "60/60 [==============================] - 17s 289ms/step - loss: 0.8925 - dice_coe: 0.1075 - val_loss: 0.8880 - val_dice_coe: 0.1120\n",
      "Epoch 15/200\n",
      "60/60 [==============================] - 17s 288ms/step - loss: 0.8893 - dice_coe: 0.1107 - val_loss: 0.8845 - val_dice_coe: 0.1155\n",
      "Epoch 16/200\n",
      "60/60 [==============================] - 17s 288ms/step - loss: 0.8858 - dice_coe: 0.1142 - val_loss: 0.8817 - val_dice_coe: 0.1183\n",
      "Epoch 17/200\n",
      "60/60 [==============================] - 17s 288ms/step - loss: 0.8822 - dice_coe: 0.1178 - val_loss: 0.8788 - val_dice_coe: 0.1212\n",
      "Epoch 18/200\n",
      "60/60 [==============================] - 17s 289ms/step - loss: 0.8785 - dice_coe: 0.1215 - val_loss: 0.8777 - val_dice_coe: 0.1223\n",
      "Epoch 19/200\n",
      "60/60 [==============================] - 17s 288ms/step - loss: 0.8745 - dice_coe: 0.1255 - val_loss: 0.8748 - val_dice_coe: 0.1252\n",
      "Epoch 20/200\n",
      "60/60 [==============================] - 17s 289ms/step - loss: 0.8704 - dice_coe: 0.1296 - val_loss: 0.8711 - val_dice_coe: 0.1289\n",
      "Epoch 21/200\n",
      "60/60 [==============================] - 17s 289ms/step - loss: 0.8660 - dice_coe: 0.1340 - val_loss: 0.8662 - val_dice_coe: 0.1338\n",
      "Epoch 22/200\n",
      "60/60 [==============================] - 17s 288ms/step - loss: 0.8615 - dice_coe: 0.1385 - val_loss: 0.8591 - val_dice_coe: 0.1409\n",
      "Epoch 23/200\n",
      "60/60 [==============================] - 17s 289ms/step - loss: 0.8566 - dice_coe: 0.1434 - val_loss: 0.8535 - val_dice_coe: 0.1465\n",
      "Epoch 24/200\n",
      "60/60 [==============================] - 18s 293ms/step - loss: 0.8516 - dice_coe: 0.1484 - val_loss: 0.8501 - val_dice_coe: 0.1499\n",
      "Epoch 25/200\n",
      "60/60 [==============================] - 17s 288ms/step - loss: 0.8463 - dice_coe: 0.1537 - val_loss: 0.8405 - val_dice_coe: 0.1595\n",
      "Epoch 26/200\n",
      "60/60 [==============================] - 17s 289ms/step - loss: 0.8406 - dice_coe: 0.1594 - val_loss: 0.8338 - val_dice_coe: 0.1662\n",
      "Epoch 27/200\n",
      "60/60 [==============================] - 17s 289ms/step - loss: 0.8346 - dice_coe: 0.1654 - val_loss: 0.8243 - val_dice_coe: 0.1757\n",
      "Epoch 28/200\n",
      "60/60 [==============================] - 17s 288ms/step - loss: 0.8282 - dice_coe: 0.1718 - val_loss: 0.8177 - val_dice_coe: 0.1823\n",
      "Epoch 29/200\n",
      "60/60 [==============================] - 17s 289ms/step - loss: 0.8214 - dice_coe: 0.1786 - val_loss: 0.8094 - val_dice_coe: 0.1906\n",
      "Epoch 30/200\n",
      "60/60 [==============================] - 17s 288ms/step - loss: 0.8140 - dice_coe: 0.1860 - val_loss: 0.7969 - val_dice_coe: 0.2031\n",
      "Epoch 31/200\n",
      "60/60 [==============================] - 17s 289ms/step - loss: 0.8069 - dice_coe: 0.1931 - val_loss: 0.7922 - val_dice_coe: 0.2078\n",
      "Epoch 32/200\n",
      "60/60 [==============================] - 17s 287ms/step - loss: 0.8001 - dice_coe: 0.1999 - val_loss: 0.7878 - val_dice_coe: 0.2122\n",
      "Epoch 33/200\n",
      "60/60 [==============================] - 17s 288ms/step - loss: 0.7887 - dice_coe: 0.2113 - val_loss: 0.7462 - val_dice_coe: 0.2538\n",
      "Epoch 34/200\n",
      "60/60 [==============================] - 17s 289ms/step - loss: 0.7754 - dice_coe: 0.2246 - val_loss: 0.7113 - val_dice_coe: 0.2887\n",
      "Epoch 35/200\n",
      "60/60 [==============================] - 17s 288ms/step - loss: 0.7608 - dice_coe: 0.2392 - val_loss: 0.6768 - val_dice_coe: 0.3232\n",
      "Epoch 36/200\n",
      "60/60 [==============================] - 17s 289ms/step - loss: 0.7448 - dice_coe: 0.2552 - val_loss: 0.6582 - val_dice_coe: 0.3418\n",
      "Epoch 37/200\n",
      "60/60 [==============================] - 17s 289ms/step - loss: 0.7266 - dice_coe: 0.2734 - val_loss: 0.6578 - val_dice_coe: 0.3422\n",
      "Epoch 38/200\n",
      "60/60 [==============================] - 17s 288ms/step - loss: 0.7073 - dice_coe: 0.2927 - val_loss: 0.6301 - val_dice_coe: 0.3699\n",
      "Epoch 39/200\n",
      "60/60 [==============================] - 17s 289ms/step - loss: 0.6870 - dice_coe: 0.3130 - val_loss: 0.5901 - val_dice_coe: 0.4099\n",
      "Epoch 40/200\n",
      "60/60 [==============================] - 17s 288ms/step - loss: 0.6650 - dice_coe: 0.3350 - val_loss: 0.5791 - val_dice_coe: 0.4209\n",
      "Epoch 41/200\n",
      "60/60 [==============================] - 17s 289ms/step - loss: 0.6422 - dice_coe: 0.3578 - val_loss: 0.5341 - val_dice_coe: 0.4659\n",
      "Epoch 42/200\n",
      "60/60 [==============================] - 17s 289ms/step - loss: 0.6192 - dice_coe: 0.3808 - val_loss: 0.5309 - val_dice_coe: 0.4691\n",
      "Epoch 43/200\n",
      "60/60 [==============================] - 17s 288ms/step - loss: 0.5946 - dice_coe: 0.4054 - val_loss: 0.4815 - val_dice_coe: 0.5185\n",
      "Epoch 44/200\n",
      "60/60 [==============================] - 17s 288ms/step - loss: 0.5698 - dice_coe: 0.4302 - val_loss: 0.5289 - val_dice_coe: 0.4711\n"
     ]
    },
    {
     "name": "stdout",
     "output_type": "stream",
     "text": [
      "Epoch 45/200\n",
      "60/60 [==============================] - 17s 289ms/step - loss: 0.5436 - dice_coe: 0.4564 - val_loss: 0.4472 - val_dice_coe: 0.5528\n",
      "Epoch 46/200\n",
      "60/60 [==============================] - 17s 288ms/step - loss: 0.5174 - dice_coe: 0.4826 - val_loss: 0.4390 - val_dice_coe: 0.5610\n",
      "Epoch 47/200\n",
      "60/60 [==============================] - 17s 289ms/step - loss: 0.4922 - dice_coe: 0.5078 - val_loss: 0.4005 - val_dice_coe: 0.5995\n",
      "Epoch 48/200\n",
      "60/60 [==============================] - 17s 288ms/step - loss: 0.4662 - dice_coe: 0.5338 - val_loss: 0.3722 - val_dice_coe: 0.6278\n",
      "Epoch 49/200\n",
      "60/60 [==============================] - 17s 289ms/step - loss: 0.4409 - dice_coe: 0.5591 - val_loss: 0.3557 - val_dice_coe: 0.6443\n",
      "Epoch 50/200\n",
      "60/60 [==============================] - 17s 288ms/step - loss: 0.4179 - dice_coe: 0.5821 - val_loss: 0.3470 - val_dice_coe: 0.6530\n",
      "Epoch 51/200\n",
      "60/60 [==============================] - 17s 289ms/step - loss: 0.3928 - dice_coe: 0.6072 - val_loss: 0.3308 - val_dice_coe: 0.6692\n",
      "Epoch 52/200\n",
      "60/60 [==============================] - 17s 289ms/step - loss: 0.3774 - dice_coe: 0.6226 - val_loss: 0.3795 - val_dice_coe: 0.6205\n",
      "Epoch 53/200\n",
      "60/60 [==============================] - 17s 288ms/step - loss: 0.3562 - dice_coe: 0.6438 - val_loss: 0.3141 - val_dice_coe: 0.6859\n",
      "Epoch 54/200\n",
      "60/60 [==============================] - 17s 289ms/step - loss: 0.3308 - dice_coe: 0.6692 - val_loss: 0.3120 - val_dice_coe: 0.6880\n",
      "Epoch 55/200\n",
      "60/60 [==============================] - 17s 288ms/step - loss: 0.3109 - dice_coe: 0.6891 - val_loss: 0.2975 - val_dice_coe: 0.7025\n",
      "Epoch 56/200\n",
      "60/60 [==============================] - 17s 288ms/step - loss: 0.2926 - dice_coe: 0.7074 - val_loss: 0.2903 - val_dice_coe: 0.7097\n",
      "Epoch 57/200\n",
      "60/60 [==============================] - 17s 288ms/step - loss: 0.2756 - dice_coe: 0.7244 - val_loss: 0.2845 - val_dice_coe: 0.7155\n",
      "Epoch 58/200\n",
      "60/60 [==============================] - 17s 289ms/step - loss: 0.2592 - dice_coe: 0.7408 - val_loss: 0.2626 - val_dice_coe: 0.7374\n",
      "Epoch 59/200\n",
      "60/60 [==============================] - 17s 288ms/step - loss: 0.2448 - dice_coe: 0.7552 - val_loss: 0.2665 - val_dice_coe: 0.7335\n",
      "Epoch 60/200\n",
      "60/60 [==============================] - 17s 289ms/step - loss: 0.2318 - dice_coe: 0.7682 - val_loss: 0.2591 - val_dice_coe: 0.7409\n",
      "Epoch 61/200\n",
      "60/60 [==============================] - 17s 288ms/step - loss: 0.2200 - dice_coe: 0.7800 - val_loss: 0.2436 - val_dice_coe: 0.7564\n",
      "Epoch 62/200\n",
      "60/60 [==============================] - 17s 288ms/step - loss: 0.2088 - dice_coe: 0.7912 - val_loss: 0.2445 - val_dice_coe: 0.7555\n",
      "Epoch 63/200\n",
      "60/60 [==============================] - 17s 288ms/step - loss: 0.1986 - dice_coe: 0.8014 - val_loss: 0.2253 - val_dice_coe: 0.7747\n",
      "Epoch 64/200\n",
      "60/60 [==============================] - 17s 288ms/step - loss: 0.1896 - dice_coe: 0.8104 - val_loss: 0.2252 - val_dice_coe: 0.7748\n",
      "Epoch 65/200\n",
      "60/60 [==============================] - 17s 289ms/step - loss: 0.1817 - dice_coe: 0.8183 - val_loss: 0.2153 - val_dice_coe: 0.7847\n",
      "Epoch 66/200\n",
      "60/60 [==============================] - 18s 292ms/step - loss: 0.1757 - dice_coe: 0.8243 - val_loss: 0.2148 - val_dice_coe: 0.7852\n",
      "Epoch 67/200\n",
      "60/60 [==============================] - 17s 288ms/step - loss: 0.1677 - dice_coe: 0.8323 - val_loss: 0.2163 - val_dice_coe: 0.7837\n",
      "Epoch 68/200\n",
      "60/60 [==============================] - 17s 288ms/step - loss: 0.1613 - dice_coe: 0.8387 - val_loss: 0.1951 - val_dice_coe: 0.8049\n",
      "Epoch 69/200\n",
      "60/60 [==============================] - 17s 289ms/step - loss: 0.1548 - dice_coe: 0.8452 - val_loss: 0.2016 - val_dice_coe: 0.7984\n",
      "Epoch 70/200\n",
      "60/60 [==============================] - 17s 288ms/step - loss: 0.1512 - dice_coe: 0.8488 - val_loss: 0.1854 - val_dice_coe: 0.8146\n",
      "Epoch 71/200\n",
      "60/60 [==============================] - 17s 290ms/step - loss: 0.1456 - dice_coe: 0.8544 - val_loss: 0.1926 - val_dice_coe: 0.8074\n",
      "Epoch 72/200\n",
      "60/60 [==============================] - 17s 288ms/step - loss: 0.1400 - dice_coe: 0.8600 - val_loss: 0.1822 - val_dice_coe: 0.8178\n",
      "Epoch 73/200\n",
      "60/60 [==============================] - 17s 289ms/step - loss: 0.1356 - dice_coe: 0.8644 - val_loss: 0.1778 - val_dice_coe: 0.8222\n",
      "Epoch 74/200\n",
      "60/60 [==============================] - 17s 288ms/step - loss: 0.1310 - dice_coe: 0.8690 - val_loss: 0.1773 - val_dice_coe: 0.8227\n",
      "Epoch 75/200\n",
      "60/60 [==============================] - 17s 289ms/step - loss: 0.1274 - dice_coe: 0.8726 - val_loss: 0.1741 - val_dice_coe: 0.8259\n",
      "Epoch 76/200\n",
      "60/60 [==============================] - 17s 288ms/step - loss: 0.1244 - dice_coe: 0.8756 - val_loss: 0.1742 - val_dice_coe: 0.8258\n",
      "Epoch 77/200\n",
      "60/60 [==============================] - 17s 288ms/step - loss: 0.1265 - dice_coe: 0.8735 - val_loss: 0.1670 - val_dice_coe: 0.8330\n",
      "Epoch 78/200\n",
      "60/60 [==============================] - 17s 288ms/step - loss: 0.1195 - dice_coe: 0.8805 - val_loss: 0.1667 - val_dice_coe: 0.8333\n",
      "Epoch 79/200\n",
      "60/60 [==============================] - 17s 289ms/step - loss: 0.1153 - dice_coe: 0.8847 - val_loss: 0.1633 - val_dice_coe: 0.8367\n",
      "Epoch 80/200\n",
      "60/60 [==============================] - 17s 288ms/step - loss: 0.1114 - dice_coe: 0.8886 - val_loss: 0.1618 - val_dice_coe: 0.8382\n",
      "Epoch 81/200\n",
      "60/60 [==============================] - 17s 289ms/step - loss: 0.1088 - dice_coe: 0.8912 - val_loss: 0.1607 - val_dice_coe: 0.8393\n",
      "Epoch 82/200\n",
      "60/60 [==============================] - 17s 289ms/step - loss: 0.1144 - dice_coe: 0.8856 - val_loss: 0.1557 - val_dice_coe: 0.8443\n",
      "Epoch 83/200\n",
      "60/60 [==============================] - 17s 289ms/step - loss: 0.1084 - dice_coe: 0.8916 - val_loss: 0.1537 - val_dice_coe: 0.8463\n",
      "Epoch 84/200\n",
      "60/60 [==============================] - 17s 289ms/step - loss: 0.1043 - dice_coe: 0.8957 - val_loss: 0.1461 - val_dice_coe: 0.8539\n",
      "Epoch 85/200\n",
      "60/60 [==============================] - 17s 288ms/step - loss: 0.1106 - dice_coe: 0.8894 - val_loss: 0.1617 - val_dice_coe: 0.8383\n",
      "Epoch 86/200\n",
      "60/60 [==============================] - 17s 289ms/step - loss: 0.1033 - dice_coe: 0.8967 - val_loss: 0.1500 - val_dice_coe: 0.8500\n",
      "Epoch 87/200\n",
      "60/60 [==============================] - 17s 289ms/step - loss: 0.0978 - dice_coe: 0.9022 - val_loss: 0.1487 - val_dice_coe: 0.8513\n",
      "Epoch 88/200\n",
      "60/60 [==============================] - 17s 289ms/step - loss: 0.0948 - dice_coe: 0.9052 - val_loss: 0.1441 - val_dice_coe: 0.8559\n",
      "Epoch 89/200\n",
      "60/60 [==============================] - 17s 289ms/step - loss: 0.0994 - dice_coe: 0.9006 - val_loss: 0.2186 - val_dice_coe: 0.7814\n",
      "Epoch 90/200\n",
      "60/60 [==============================] - 17s 289ms/step - loss: 0.1074 - dice_coe: 0.8926 - val_loss: 0.1411 - val_dice_coe: 0.8589\n",
      "Epoch 91/200\n",
      "60/60 [==============================] - 17s 288ms/step - loss: 0.0975 - dice_coe: 0.9025 - val_loss: 0.1328 - val_dice_coe: 0.8672\n",
      "Epoch 92/200\n",
      "60/60 [==============================] - 17s 289ms/step - loss: 0.0918 - dice_coe: 0.9082 - val_loss: 0.1383 - val_dice_coe: 0.8617\n",
      "Epoch 93/200\n",
      "60/60 [==============================] - 17s 289ms/step - loss: 0.0885 - dice_coe: 0.9115 - val_loss: 0.1410 - val_dice_coe: 0.8590\n",
      "Epoch 94/200\n",
      "60/60 [==============================] - 17s 289ms/step - loss: 0.0861 - dice_coe: 0.9139 - val_loss: 0.1398 - val_dice_coe: 0.8602\n",
      "Epoch 95/200\n",
      "60/60 [==============================] - 17s 289ms/step - loss: 0.0841 - dice_coe: 0.9159 - val_loss: 0.1396 - val_dice_coe: 0.8604\n",
      "Epoch 96/200\n",
      "60/60 [==============================] - 17s 288ms/step - loss: 0.0825 - dice_coe: 0.9175 - val_loss: 0.1415 - val_dice_coe: 0.8585\n",
      "Epoch 97/200\n",
      "60/60 [==============================] - 17s 287ms/step - loss: 0.0812 - dice_coe: 0.9188 - val_loss: 0.1468 - val_dice_coe: 0.8532\n",
      "Epoch 98/200\n",
      "60/60 [==============================] - 17s 289ms/step - loss: 0.0811 - dice_coe: 0.9189 - val_loss: 0.1425 - val_dice_coe: 0.8575\n",
      "Epoch 99/200\n",
      "60/60 [==============================] - 17s 289ms/step - loss: 0.0785 - dice_coe: 0.9215 - val_loss: 0.1427 - val_dice_coe: 0.8573\n",
      "Epoch 100/200\n",
      "18/60 [========>.....................] - ETA: 10s - loss: 0.0796 - dice_coe: 0.9204"
     ]
    },
    {
     "ename": "KeyboardInterrupt",
     "evalue": "",
     "output_type": "error",
     "traceback": [
      "\u001b[0;31m---------------------------------------------------------------------------\u001b[0m",
      "\u001b[0;31mKeyboardInterrupt\u001b[0m                         Traceback (most recent call last)",
      "\u001b[0;32m<ipython-input-8-9a69b80a47d4>\u001b[0m in \u001b[0;36m<module>\u001b[0;34m\u001b[0m\n\u001b[0;32m----> 1\u001b[0;31m history=Model_3D.fit(train_gen,\n\u001b[0m\u001b[1;32m      2\u001b[0m                             validation_data=valid_gen,epochs=200,shuffle=True,batch_size=2)\n",
      "\u001b[0;32m~/anaconda3/envs/tf_gpu/lib/python3.8/site-packages/tensorflow/python/keras/engine/training.py\u001b[0m in \u001b[0;36m_method_wrapper\u001b[0;34m(self, *args, **kwargs)\u001b[0m\n\u001b[1;32m     64\u001b[0m   \u001b[0;32mdef\u001b[0m \u001b[0m_method_wrapper\u001b[0m\u001b[0;34m(\u001b[0m\u001b[0mself\u001b[0m\u001b[0;34m,\u001b[0m \u001b[0;34m*\u001b[0m\u001b[0margs\u001b[0m\u001b[0;34m,\u001b[0m \u001b[0;34m**\u001b[0m\u001b[0mkwargs\u001b[0m\u001b[0;34m)\u001b[0m\u001b[0;34m:\u001b[0m\u001b[0;34m\u001b[0m\u001b[0;34m\u001b[0m\u001b[0m\n\u001b[1;32m     65\u001b[0m     \u001b[0;32mif\u001b[0m \u001b[0;32mnot\u001b[0m \u001b[0mself\u001b[0m\u001b[0;34m.\u001b[0m\u001b[0m_in_multi_worker_mode\u001b[0m\u001b[0;34m(\u001b[0m\u001b[0;34m)\u001b[0m\u001b[0;34m:\u001b[0m  \u001b[0;31m# pylint: disable=protected-access\u001b[0m\u001b[0;34m\u001b[0m\u001b[0;34m\u001b[0m\u001b[0m\n\u001b[0;32m---> 66\u001b[0;31m       \u001b[0;32mreturn\u001b[0m \u001b[0mmethod\u001b[0m\u001b[0;34m(\u001b[0m\u001b[0mself\u001b[0m\u001b[0;34m,\u001b[0m \u001b[0;34m*\u001b[0m\u001b[0margs\u001b[0m\u001b[0;34m,\u001b[0m \u001b[0;34m**\u001b[0m\u001b[0mkwargs\u001b[0m\u001b[0;34m)\u001b[0m\u001b[0;34m\u001b[0m\u001b[0;34m\u001b[0m\u001b[0m\n\u001b[0m\u001b[1;32m     67\u001b[0m \u001b[0;34m\u001b[0m\u001b[0m\n\u001b[1;32m     68\u001b[0m     \u001b[0;31m# Running inside `run_distribute_coordinator` already.\u001b[0m\u001b[0;34m\u001b[0m\u001b[0;34m\u001b[0m\u001b[0;34m\u001b[0m\u001b[0m\n",
      "\u001b[0;32m~/anaconda3/envs/tf_gpu/lib/python3.8/site-packages/tensorflow/python/keras/engine/training.py\u001b[0m in \u001b[0;36mfit\u001b[0;34m(self, x, y, batch_size, epochs, verbose, callbacks, validation_split, validation_data, shuffle, class_weight, sample_weight, initial_epoch, steps_per_epoch, validation_steps, validation_batch_size, validation_freq, max_queue_size, workers, use_multiprocessing)\u001b[0m\n\u001b[1;32m    846\u001b[0m                 batch_size=batch_size):\n\u001b[1;32m    847\u001b[0m               \u001b[0mcallbacks\u001b[0m\u001b[0;34m.\u001b[0m\u001b[0mon_train_batch_begin\u001b[0m\u001b[0;34m(\u001b[0m\u001b[0mstep\u001b[0m\u001b[0;34m)\u001b[0m\u001b[0;34m\u001b[0m\u001b[0;34m\u001b[0m\u001b[0m\n\u001b[0;32m--> 848\u001b[0;31m               \u001b[0mtmp_logs\u001b[0m \u001b[0;34m=\u001b[0m \u001b[0mtrain_function\u001b[0m\u001b[0;34m(\u001b[0m\u001b[0miterator\u001b[0m\u001b[0;34m)\u001b[0m\u001b[0;34m\u001b[0m\u001b[0;34m\u001b[0m\u001b[0m\n\u001b[0m\u001b[1;32m    849\u001b[0m               \u001b[0;31m# Catch OutOfRangeError for Datasets of unknown size.\u001b[0m\u001b[0;34m\u001b[0m\u001b[0;34m\u001b[0m\u001b[0;34m\u001b[0m\u001b[0m\n\u001b[1;32m    850\u001b[0m               \u001b[0;31m# This blocks until the batch has finished executing.\u001b[0m\u001b[0;34m\u001b[0m\u001b[0;34m\u001b[0m\u001b[0;34m\u001b[0m\u001b[0m\n",
      "\u001b[0;32m~/anaconda3/envs/tf_gpu/lib/python3.8/site-packages/tensorflow/python/eager/def_function.py\u001b[0m in \u001b[0;36m__call__\u001b[0;34m(self, *args, **kwds)\u001b[0m\n\u001b[1;32m    578\u001b[0m         \u001b[0mxla_context\u001b[0m\u001b[0;34m.\u001b[0m\u001b[0mExit\u001b[0m\u001b[0;34m(\u001b[0m\u001b[0;34m)\u001b[0m\u001b[0;34m\u001b[0m\u001b[0;34m\u001b[0m\u001b[0m\n\u001b[1;32m    579\u001b[0m     \u001b[0;32melse\u001b[0m\u001b[0;34m:\u001b[0m\u001b[0;34m\u001b[0m\u001b[0;34m\u001b[0m\u001b[0m\n\u001b[0;32m--> 580\u001b[0;31m       \u001b[0mresult\u001b[0m \u001b[0;34m=\u001b[0m \u001b[0mself\u001b[0m\u001b[0;34m.\u001b[0m\u001b[0m_call\u001b[0m\u001b[0;34m(\u001b[0m\u001b[0;34m*\u001b[0m\u001b[0margs\u001b[0m\u001b[0;34m,\u001b[0m \u001b[0;34m**\u001b[0m\u001b[0mkwds\u001b[0m\u001b[0;34m)\u001b[0m\u001b[0;34m\u001b[0m\u001b[0;34m\u001b[0m\u001b[0m\n\u001b[0m\u001b[1;32m    581\u001b[0m \u001b[0;34m\u001b[0m\u001b[0m\n\u001b[1;32m    582\u001b[0m     \u001b[0;32mif\u001b[0m \u001b[0mtracing_count\u001b[0m \u001b[0;34m==\u001b[0m \u001b[0mself\u001b[0m\u001b[0;34m.\u001b[0m\u001b[0m_get_tracing_count\u001b[0m\u001b[0;34m(\u001b[0m\u001b[0;34m)\u001b[0m\u001b[0;34m:\u001b[0m\u001b[0;34m\u001b[0m\u001b[0;34m\u001b[0m\u001b[0m\n",
      "\u001b[0;32m~/anaconda3/envs/tf_gpu/lib/python3.8/site-packages/tensorflow/python/eager/def_function.py\u001b[0m in \u001b[0;36m_call\u001b[0;34m(self, *args, **kwds)\u001b[0m\n\u001b[1;32m    609\u001b[0m       \u001b[0;31m# In this case we have created variables on the first call, so we run the\u001b[0m\u001b[0;34m\u001b[0m\u001b[0;34m\u001b[0m\u001b[0;34m\u001b[0m\u001b[0m\n\u001b[1;32m    610\u001b[0m       \u001b[0;31m# defunned version which is guaranteed to never create variables.\u001b[0m\u001b[0;34m\u001b[0m\u001b[0;34m\u001b[0m\u001b[0;34m\u001b[0m\u001b[0m\n\u001b[0;32m--> 611\u001b[0;31m       \u001b[0;32mreturn\u001b[0m \u001b[0mself\u001b[0m\u001b[0;34m.\u001b[0m\u001b[0m_stateless_fn\u001b[0m\u001b[0;34m(\u001b[0m\u001b[0;34m*\u001b[0m\u001b[0margs\u001b[0m\u001b[0;34m,\u001b[0m \u001b[0;34m**\u001b[0m\u001b[0mkwds\u001b[0m\u001b[0;34m)\u001b[0m  \u001b[0;31m# pylint: disable=not-callable\u001b[0m\u001b[0;34m\u001b[0m\u001b[0;34m\u001b[0m\u001b[0m\n\u001b[0m\u001b[1;32m    612\u001b[0m     \u001b[0;32melif\u001b[0m \u001b[0mself\u001b[0m\u001b[0;34m.\u001b[0m\u001b[0m_stateful_fn\u001b[0m \u001b[0;32mis\u001b[0m \u001b[0;32mnot\u001b[0m \u001b[0;32mNone\u001b[0m\u001b[0;34m:\u001b[0m\u001b[0;34m\u001b[0m\u001b[0;34m\u001b[0m\u001b[0m\n\u001b[1;32m    613\u001b[0m       \u001b[0;31m# Release the lock early so that multiple threads can perform the call\u001b[0m\u001b[0;34m\u001b[0m\u001b[0;34m\u001b[0m\u001b[0;34m\u001b[0m\u001b[0m\n",
      "\u001b[0;32m~/anaconda3/envs/tf_gpu/lib/python3.8/site-packages/tensorflow/python/eager/function.py\u001b[0m in \u001b[0;36m__call__\u001b[0;34m(self, *args, **kwargs)\u001b[0m\n\u001b[1;32m   2418\u001b[0m     \u001b[0;32mwith\u001b[0m \u001b[0mself\u001b[0m\u001b[0;34m.\u001b[0m\u001b[0m_lock\u001b[0m\u001b[0;34m:\u001b[0m\u001b[0;34m\u001b[0m\u001b[0;34m\u001b[0m\u001b[0m\n\u001b[1;32m   2419\u001b[0m       \u001b[0mgraph_function\u001b[0m\u001b[0;34m,\u001b[0m \u001b[0margs\u001b[0m\u001b[0;34m,\u001b[0m \u001b[0mkwargs\u001b[0m \u001b[0;34m=\u001b[0m \u001b[0mself\u001b[0m\u001b[0;34m.\u001b[0m\u001b[0m_maybe_define_function\u001b[0m\u001b[0;34m(\u001b[0m\u001b[0margs\u001b[0m\u001b[0;34m,\u001b[0m \u001b[0mkwargs\u001b[0m\u001b[0;34m)\u001b[0m\u001b[0;34m\u001b[0m\u001b[0;34m\u001b[0m\u001b[0m\n\u001b[0;32m-> 2420\u001b[0;31m     \u001b[0;32mreturn\u001b[0m \u001b[0mgraph_function\u001b[0m\u001b[0;34m.\u001b[0m\u001b[0m_filtered_call\u001b[0m\u001b[0;34m(\u001b[0m\u001b[0margs\u001b[0m\u001b[0;34m,\u001b[0m \u001b[0mkwargs\u001b[0m\u001b[0;34m)\u001b[0m  \u001b[0;31m# pylint: disable=protected-access\u001b[0m\u001b[0;34m\u001b[0m\u001b[0;34m\u001b[0m\u001b[0m\n\u001b[0m\u001b[1;32m   2421\u001b[0m \u001b[0;34m\u001b[0m\u001b[0m\n\u001b[1;32m   2422\u001b[0m   \u001b[0;34m@\u001b[0m\u001b[0mproperty\u001b[0m\u001b[0;34m\u001b[0m\u001b[0;34m\u001b[0m\u001b[0m\n",
      "\u001b[0;32m~/anaconda3/envs/tf_gpu/lib/python3.8/site-packages/tensorflow/python/eager/function.py\u001b[0m in \u001b[0;36m_filtered_call\u001b[0;34m(self, args, kwargs)\u001b[0m\n\u001b[1;32m   1659\u001b[0m       \u001b[0;31m`\u001b[0m\u001b[0margs\u001b[0m\u001b[0;31m`\u001b[0m \u001b[0;32mand\u001b[0m\u001b[0;31m \u001b[0m\u001b[0;31m`\u001b[0m\u001b[0mkwargs\u001b[0m\u001b[0;31m`\u001b[0m\u001b[0;34m.\u001b[0m\u001b[0;34m\u001b[0m\u001b[0;34m\u001b[0m\u001b[0m\n\u001b[1;32m   1660\u001b[0m     \"\"\"\n\u001b[0;32m-> 1661\u001b[0;31m     return self._call_flat(\n\u001b[0m\u001b[1;32m   1662\u001b[0m         (t for t in nest.flatten((args, kwargs), expand_composites=True)\n\u001b[1;32m   1663\u001b[0m          if isinstance(t, (ops.Tensor,\n",
      "\u001b[0;32m~/anaconda3/envs/tf_gpu/lib/python3.8/site-packages/tensorflow/python/eager/function.py\u001b[0m in \u001b[0;36m_call_flat\u001b[0;34m(self, args, captured_inputs, cancellation_manager)\u001b[0m\n\u001b[1;32m   1743\u001b[0m         and executing_eagerly):\n\u001b[1;32m   1744\u001b[0m       \u001b[0;31m# No tape is watching; skip to running the function.\u001b[0m\u001b[0;34m\u001b[0m\u001b[0;34m\u001b[0m\u001b[0;34m\u001b[0m\u001b[0m\n\u001b[0;32m-> 1745\u001b[0;31m       return self._build_call_outputs(self._inference_function.call(\n\u001b[0m\u001b[1;32m   1746\u001b[0m           ctx, args, cancellation_manager=cancellation_manager))\n\u001b[1;32m   1747\u001b[0m     forward_backward = self._select_forward_and_backward_functions(\n",
      "\u001b[0;32m~/anaconda3/envs/tf_gpu/lib/python3.8/site-packages/tensorflow/python/eager/function.py\u001b[0m in \u001b[0;36mcall\u001b[0;34m(self, ctx, args, cancellation_manager)\u001b[0m\n\u001b[1;32m    591\u001b[0m       \u001b[0;32mwith\u001b[0m \u001b[0m_InterpolateFunctionError\u001b[0m\u001b[0;34m(\u001b[0m\u001b[0mself\u001b[0m\u001b[0;34m)\u001b[0m\u001b[0;34m:\u001b[0m\u001b[0;34m\u001b[0m\u001b[0;34m\u001b[0m\u001b[0m\n\u001b[1;32m    592\u001b[0m         \u001b[0;32mif\u001b[0m \u001b[0mcancellation_manager\u001b[0m \u001b[0;32mis\u001b[0m \u001b[0;32mNone\u001b[0m\u001b[0;34m:\u001b[0m\u001b[0;34m\u001b[0m\u001b[0;34m\u001b[0m\u001b[0m\n\u001b[0;32m--> 593\u001b[0;31m           outputs = execute.execute(\n\u001b[0m\u001b[1;32m    594\u001b[0m               \u001b[0mstr\u001b[0m\u001b[0;34m(\u001b[0m\u001b[0mself\u001b[0m\u001b[0;34m.\u001b[0m\u001b[0msignature\u001b[0m\u001b[0;34m.\u001b[0m\u001b[0mname\u001b[0m\u001b[0;34m)\u001b[0m\u001b[0;34m,\u001b[0m\u001b[0;34m\u001b[0m\u001b[0;34m\u001b[0m\u001b[0m\n\u001b[1;32m    595\u001b[0m               \u001b[0mnum_outputs\u001b[0m\u001b[0;34m=\u001b[0m\u001b[0mself\u001b[0m\u001b[0;34m.\u001b[0m\u001b[0m_num_outputs\u001b[0m\u001b[0;34m,\u001b[0m\u001b[0;34m\u001b[0m\u001b[0;34m\u001b[0m\u001b[0m\n",
      "\u001b[0;32m~/anaconda3/envs/tf_gpu/lib/python3.8/site-packages/tensorflow/python/eager/execute.py\u001b[0m in \u001b[0;36mquick_execute\u001b[0;34m(op_name, num_outputs, inputs, attrs, ctx, name)\u001b[0m\n\u001b[1;32m     57\u001b[0m   \u001b[0;32mtry\u001b[0m\u001b[0;34m:\u001b[0m\u001b[0;34m\u001b[0m\u001b[0;34m\u001b[0m\u001b[0m\n\u001b[1;32m     58\u001b[0m     \u001b[0mctx\u001b[0m\u001b[0;34m.\u001b[0m\u001b[0mensure_initialized\u001b[0m\u001b[0;34m(\u001b[0m\u001b[0;34m)\u001b[0m\u001b[0;34m\u001b[0m\u001b[0;34m\u001b[0m\u001b[0m\n\u001b[0;32m---> 59\u001b[0;31m     tensors = pywrap_tfe.TFE_Py_Execute(ctx._handle, device_name, op_name,\n\u001b[0m\u001b[1;32m     60\u001b[0m                                         inputs, attrs, num_outputs)\n\u001b[1;32m     61\u001b[0m   \u001b[0;32mexcept\u001b[0m \u001b[0mcore\u001b[0m\u001b[0;34m.\u001b[0m\u001b[0m_NotOkStatusException\u001b[0m \u001b[0;32mas\u001b[0m \u001b[0me\u001b[0m\u001b[0;34m:\u001b[0m\u001b[0;34m\u001b[0m\u001b[0;34m\u001b[0m\u001b[0m\n",
      "\u001b[0;31mKeyboardInterrupt\u001b[0m: "
     ]
    }
   ],
   "source": [
    "history=Model_3D.fit(train_gen,\n",
    "                            validation_data=valid_gen,epochs=200,shuffle=True,batch_size=2)\n"
   ]
  },
  {
   "cell_type": "code",
   "execution_count": 12,
   "metadata": {},
   "outputs": [
    {
     "ename": "AttributeError",
     "evalue": "'Model' object has no attribute 'load'",
     "output_type": "error",
     "traceback": [
      "\u001b[0;31m---------------------------------------------------------------------------\u001b[0m",
      "\u001b[0;31mAttributeError\u001b[0m                            Traceback (most recent call last)",
      "\u001b[0;32m<ipython-input-12-7362193a2249>\u001b[0m in \u001b[0;36m<module>\u001b[0;34m\u001b[0m\n\u001b[0;32m----> 1\u001b[0;31m \u001b[0mModel_3D\u001b[0m\u001b[0;34m.\u001b[0m\u001b[0mload\u001b[0m\u001b[0;34m(\u001b[0m\u001b[0;34m'/home/usman/3D_model_8channels_Unet.h5'\u001b[0m\u001b[0;34m)\u001b[0m\u001b[0;34m\u001b[0m\u001b[0;34m\u001b[0m\u001b[0m\n\u001b[0m",
      "\u001b[0;31mAttributeError\u001b[0m: 'Model' object has no attribute 'load'"
     ]
    }
   ],
   "source": [
    "Model_3D.save('/home/usman/3D_model_8channels_Unet.h5')"
   ]
  },
  {
   "cell_type": "code",
   "execution_count": 11,
   "metadata": {},
   "outputs": [
    {
     "ename": "NameError",
     "evalue": "name 'history' is not defined",
     "output_type": "error",
     "traceback": [
      "\u001b[0;31m---------------------------------------------------------------------------\u001b[0m",
      "\u001b[0;31mNameError\u001b[0m                                 Traceback (most recent call last)",
      "\u001b[0;32m<ipython-input-11-7dc2212dd7bc>\u001b[0m in \u001b[0;36m<module>\u001b[0;34m\u001b[0m\n\u001b[1;32m      1\u001b[0m \u001b[0;31m#plot the training and validation IoU and loss at each epoch\u001b[0m\u001b[0;34m\u001b[0m\u001b[0;34m\u001b[0m\u001b[0;34m\u001b[0m\u001b[0m\n\u001b[0;32m----> 2\u001b[0;31m \u001b[0mloss\u001b[0m \u001b[0;34m=\u001b[0m \u001b[0mhistory\u001b[0m\u001b[0;34m.\u001b[0m\u001b[0mhistory\u001b[0m\u001b[0;34m[\u001b[0m\u001b[0;34m'loss'\u001b[0m\u001b[0;34m]\u001b[0m\u001b[0;34m\u001b[0m\u001b[0;34m\u001b[0m\u001b[0m\n\u001b[0m\u001b[1;32m      3\u001b[0m \u001b[0mval_loss\u001b[0m \u001b[0;34m=\u001b[0m \u001b[0mhistory\u001b[0m\u001b[0;34m.\u001b[0m\u001b[0mhistory\u001b[0m\u001b[0;34m[\u001b[0m\u001b[0;34m'val_loss'\u001b[0m\u001b[0;34m]\u001b[0m\u001b[0;34m\u001b[0m\u001b[0;34m\u001b[0m\u001b[0m\n\u001b[1;32m      4\u001b[0m \u001b[0mepochs\u001b[0m \u001b[0;34m=\u001b[0m \u001b[0mrange\u001b[0m\u001b[0;34m(\u001b[0m\u001b[0;36m1\u001b[0m\u001b[0;34m,\u001b[0m \u001b[0mlen\u001b[0m\u001b[0;34m(\u001b[0m\u001b[0mloss\u001b[0m\u001b[0;34m)\u001b[0m \u001b[0;34m+\u001b[0m \u001b[0;36m1\u001b[0m\u001b[0;34m)\u001b[0m\u001b[0;34m\u001b[0m\u001b[0;34m\u001b[0m\u001b[0m\n\u001b[1;32m      5\u001b[0m \u001b[0mplt\u001b[0m\u001b[0;34m.\u001b[0m\u001b[0mplot\u001b[0m\u001b[0;34m(\u001b[0m\u001b[0mepochs\u001b[0m\u001b[0;34m,\u001b[0m \u001b[0mloss\u001b[0m\u001b[0;34m,\u001b[0m \u001b[0;34m'y'\u001b[0m\u001b[0;34m,\u001b[0m \u001b[0mlabel\u001b[0m\u001b[0;34m=\u001b[0m\u001b[0;34m'Training loss'\u001b[0m\u001b[0;34m)\u001b[0m\u001b[0;34m\u001b[0m\u001b[0;34m\u001b[0m\u001b[0m\n",
      "\u001b[0;31mNameError\u001b[0m: name 'history' is not defined"
     ]
    }
   ],
   "source": [
    "#plot the training and validation IoU and loss at each epoch\n",
    "loss = history.history['loss']\n",
    "val_loss = history.history['val_loss']\n",
    "epochs = range(1, len(loss) + 1)\n",
    "plt.plot(epochs, loss, 'y', label='Training loss')\n",
    "plt.plot(epochs, val_loss, 'r', label='Validation loss')\n",
    "plt.title('Training and validation loss')\n",
    "plt.xlabel('Epochs')\n",
    "plt.ylabel('Loss')\n",
    "plt.legend()\n",
    "plt.show()"
   ]
  },
  {
   "cell_type": "code",
   "execution_count": 12,
   "metadata": {},
   "outputs": [
    {
     "ename": "NameError",
     "evalue": "name 'history' is not defined",
     "output_type": "error",
     "traceback": [
      "\u001b[0;31m---------------------------------------------------------------------------\u001b[0m",
      "\u001b[0;31mNameError\u001b[0m                                 Traceback (most recent call last)",
      "\u001b[0;32m<ipython-input-12-717d64f5ec72>\u001b[0m in \u001b[0;36m<module>\u001b[0;34m\u001b[0m\n\u001b[0;32m----> 1\u001b[0;31m \u001b[0macc\u001b[0m \u001b[0;34m=\u001b[0m \u001b[0mhistory\u001b[0m\u001b[0;34m.\u001b[0m\u001b[0mhistory\u001b[0m\u001b[0;34m[\u001b[0m\u001b[0;34m'dice_coe'\u001b[0m\u001b[0;34m]\u001b[0m\u001b[0;34m\u001b[0m\u001b[0;34m\u001b[0m\u001b[0m\n\u001b[0m\u001b[1;32m      2\u001b[0m \u001b[0mval_acc\u001b[0m \u001b[0;34m=\u001b[0m \u001b[0mhistory\u001b[0m\u001b[0;34m.\u001b[0m\u001b[0mhistory\u001b[0m\u001b[0;34m[\u001b[0m\u001b[0;34m'val_dice_coe'\u001b[0m\u001b[0;34m]\u001b[0m\u001b[0;34m\u001b[0m\u001b[0;34m\u001b[0m\u001b[0m\n\u001b[1;32m      3\u001b[0m \u001b[0;34m\u001b[0m\u001b[0m\n\u001b[1;32m      4\u001b[0m \u001b[0mplt\u001b[0m\u001b[0;34m.\u001b[0m\u001b[0mplot\u001b[0m\u001b[0;34m(\u001b[0m\u001b[0mepochs\u001b[0m\u001b[0;34m,\u001b[0m \u001b[0macc\u001b[0m\u001b[0;34m,\u001b[0m \u001b[0;34m'y'\u001b[0m\u001b[0;34m,\u001b[0m \u001b[0mlabel\u001b[0m\u001b[0;34m=\u001b[0m\u001b[0;34m'Training Dice coefficient'\u001b[0m\u001b[0;34m)\u001b[0m\u001b[0;34m\u001b[0m\u001b[0;34m\u001b[0m\u001b[0m\n\u001b[1;32m      5\u001b[0m \u001b[0mplt\u001b[0m\u001b[0;34m.\u001b[0m\u001b[0mplot\u001b[0m\u001b[0;34m(\u001b[0m\u001b[0mepochs\u001b[0m\u001b[0;34m,\u001b[0m \u001b[0mval_acc\u001b[0m\u001b[0;34m,\u001b[0m \u001b[0;34m'r'\u001b[0m\u001b[0;34m,\u001b[0m \u001b[0mlabel\u001b[0m\u001b[0;34m=\u001b[0m\u001b[0;34m'Validation Dice Coefficient'\u001b[0m\u001b[0;34m)\u001b[0m\u001b[0;34m\u001b[0m\u001b[0;34m\u001b[0m\u001b[0m\n",
      "\u001b[0;31mNameError\u001b[0m: name 'history' is not defined"
     ]
    }
   ],
   "source": [
    "acc = history.history['dice_coe']\n",
    "val_acc = history.history['val_dice_coe']\n",
    "\n",
    "plt.plot(epochs, acc, 'y', label='Training Dice coefficient')\n",
    "plt.plot(epochs, val_acc, 'r', label='Validation Dice Coefficient')\n",
    "plt.title('Training and validation Dice coefficient')\n",
    "plt.xlabel('Epochs')\n",
    "plt.ylabel('Dice Coefficient')\n",
    "plt.legend()\n",
    "plt.show()"
   ]
  },
  {
   "cell_type": "code",
   "execution_count": 8,
   "metadata": {},
   "outputs": [],
   "source": [
    "from tensorflow.keras.models import load_model\n",
    "my_model = load_model('/home/usman/3D_model_8channels_Unet.h5', compile=False)"
   ]
  },
  {
   "cell_type": "code",
   "execution_count": 9,
   "metadata": {},
   "outputs": [
    {
     "name": "stderr",
     "output_type": "stream",
     "text": [
      "100%|██████████| 65/65 [00:11<00:00,  5.54it/s]\n"
     ]
    }
   ],
   "source": [
    "test_data_paths=glob.glob(\"/home/minha/AIDA/total_crops/test/images/*.npy\")\n",
    "test_masks_paths=glob.glob(\"/home/minha/AIDA/total_crops/test/masks/*.npy\")\n",
    "images_test = []\n",
    "masks_test = []\n",
    "flg = 0\n",
    "for i in tqdm(range(len(test_data_paths))):\n",
    "    mask = load(test_masks_paths[i])\n",
    "    temp=np.unique(mask)\n",
    "    \n",
    "    temp=np.where(temp==0.0,12.0,temp)\n",
    "    temp=np.where(temp>7.0,0.0,1.0)\n",
    "    \n",
    "    if sum(temp)>1.:\n",
    "    \n",
    "        mask = load(test_masks_paths[i])\n",
    "        image = load(test_data_paths[i])\n",
    "\n",
    "        image=image.reshape(128,128,128,1)\n",
    "\n",
    "        images_test.append(image)\n",
    "        mask=one_hot(mask)\n",
    "        masks_test.append(mask)"
   ]
  },
  {
   "cell_type": "code",
   "execution_count": 10,
   "metadata": {},
   "outputs": [
    {
     "data": {
      "text/plain": [
       "6"
      ]
     },
     "execution_count": 10,
     "metadata": {},
     "output_type": "execute_result"
    }
   ],
   "source": [
    "len(masks_test)"
   ]
  },
  {
   "cell_type": "code",
   "execution_count": 13,
   "metadata": {},
   "outputs": [],
   "source": [
    "image_size = 128\n",
    "batch_size = 1\n",
    "test_gen = DataGen(image_size, images_test,masks_test, batch_size=batch_size)"
   ]
  },
  {
   "cell_type": "code",
   "execution_count": 16,
   "metadata": {},
   "outputs": [],
   "source": [
    "y_pred=Model_3D.predict(test_gen,batch_size=2)\n",
    "y_pred_argmax=np.where(y_pred>0.5,1,0)"
   ]
  },
  {
   "cell_type": "code",
   "execution_count": 14,
   "metadata": {},
   "outputs": [],
   "source": [
    "def compute_dice(im1, im2, empty_score=1.0):\n",
    "    \"\"\"\n",
    "    Computes the Dice coefficient, a measure of set similarity.\n",
    "    Parameters\n",
    "    ----------\n",
    "    im1 : array-like, bool\n",
    "        Any array of arbitrary size. If not boolean, will be converted.\n",
    "    im2 : array-like, bool\n",
    "        Any other array of identical size. If not boolean, will be converted.\n",
    "    Returns\n",
    "    -------\n",
    "    dice : float\n",
    "        Dice coefficient as a float on range [0,1].\n",
    "        Maximum similarity = 1\n",
    "        No similarity = 0\n",
    "        Both are empty (sum eq to zero) = empty_score\n",
    "    Notes\n",
    "    -----\n",
    "    The order of inputs for `dice` is irrelevant. The result will be\n",
    "    identical if `im1` and `im2` are switched.\n",
    "    \"\"\"\n",
    "    im1 = np.asarray(im1).astype(np.bool)\n",
    "    im2 = np.asarray(im2).astype(np.bool)\n",
    "\n",
    "    if im1.shape != im2.shape:\n",
    "        raise ValueError(\"Shape mismatch: im1 and im2 must have the same shape.\")\n",
    "\n",
    "    im_sum = im1.sum() + im2.sum()\n",
    "    if im_sum == 0:\n",
    "        return empty_score\n",
    "\n",
    "    # Compute Dice coefficient\n",
    "    intersection = np.logical_and(im1, im2)\n",
    "\n",
    "    return 2. * intersection.sum() / im_sum"
   ]
  },
  {
   "cell_type": "code",
   "execution_count": 15,
   "metadata": {},
   "outputs": [],
   "source": [
    "dice=[]\n",
    "for k in range(len(images_test)):\n",
    "    try:\n",
    "        y_pred=my_model.predict(test_gen.__getitem__(k)[0])\n",
    "        y_pred_argmax=np.where(y_pred>0.5,1,0)\n",
    "        true_msk=test_gen.__getitem__(k)[1]\n",
    "        dice.append(compute_dice(y_pred_argmax, true_msk))\n",
    "    except:\n",
    "        print(k)"
   ]
  },
  {
   "cell_type": "code",
   "execution_count": 60,
   "metadata": {},
   "outputs": [
    {
     "data": {
      "image/png": "[encoded data removed]",
      "text/plain": [
       "<Figure size 432x288 with 1 Axes>"
      ]
     },
     "metadata": {
      "needs_background": "light"
     },
     "output_type": "display_data"
    }
   ],
   "source": [
    "import matplotlib.pyplot as plt\n",
    "plt.plot(dice) #, label='Test Dice coefficient'\n",
    "plt.show()"
   ]
  },
  {
   "cell_type": "code",
   "execution_count": 21,
   "metadata": {},
   "outputs": [
    {
     "data": {
      "image/png": "[encoded data removed]",
      "text/plain": [
       "<Figure size 432x288 with 1 Axes>"
      ]
     },
     "metadata": {
      "needs_background": "light"
     },
     "output_type": "display_data"
    }
   ],
   "source": [
    "import matplotlib.pyplot as plt\n",
    "plt.plot(dice) #, label='Test Dice coefficient'\n",
    "plt.show()"
   ]
  },
  {
   "cell_type": "code",
   "execution_count": null,
   "metadata": {},
   "outputs": [],
   "source": [
    "dice=np.asarray(dice)"
   ]
  },
  {
   "cell_type": "code",
   "execution_count": 62,
   "metadata": {},
   "outputs": [
    {
     "data": {
      "text/plain": [
       "0.3572978710757398"
      ]
     },
     "execution_count": 62,
     "metadata": {},
     "output_type": "execute_result"
    }
   ],
   "source": [
    "np.mean(dice)"
   ]
  },
  {
   "cell_type": "code",
   "execution_count": 30,
   "metadata": {},
   "outputs": [
    {
     "data": {
      "text/plain": [
       "(128, 128)"
      ]
     },
     "execution_count": 30,
     "metadata": {},
     "output_type": "execute_result"
    }
   ],
   "source": [
    "y_pred_argmax[0][:,:,50,4].shape"
   ]
  },
  {
   "cell_type": "code",
   "execution_count": 32,
   "metadata": {},
   "outputs": [
    {
     "data": {
      "text/plain": [
       "array([0, 1])"
      ]
     },
     "execution_count": 32,
     "metadata": {},
     "output_type": "execute_result"
    }
   ],
   "source": [
    "np.unique(y_pred_argmax)"
   ]
  },
  {
   "cell_type": "code",
   "execution_count": 31,
   "metadata": {},
   "outputs": [
    {
     "data": {
      "text/plain": [
       "<matplotlib.image.AxesImage at 0x7f3074494970>"
      ]
     },
     "execution_count": 31,
     "metadata": {},
     "output_type": "execute_result"
    },
    {
     "data": {
      "image/png": "[encoded data removed]",
      "text/plain": [
       "<Figure size 432x288 with 1 Axes>"
      ]
     },
     "metadata": {
      "needs_background": "light"
     },
     "output_type": "display_data"
    }
   ],
   "source": [
    "plt.imshow(y_pred_argmax[0][:,:,50,3])"
   ]
  },
  {
   "cell_type": "code",
   "execution_count": 16,
   "metadata": {},
   "outputs": [],
   "source": [
    "import numpy as np\n",
    "import ipywidgets as ipyw\n",
    "import matplotlib.pyplot as plt\n",
    "%matplotlib inline\n",
    "\n",
    "class ImageSliceViewer3D:\n",
    "    \"\"\" \n",
    "    ImageSliceViewer3D is for viewing volumetric image slices in jupyter or\n",
    "    ipython notebooks. \n",
    "    \n",
    "    User can interactively change the slice plane selection for the image and \n",
    "    the slice plane being viewed. \n",
    "\n",
    "    Argumentss:\n",
    "    Volume = 3D input image\n",
    "    figsize = default(8,8), to set the size of the figure\n",
    "    cmap = default('plasma'), string for the matplotlib colormap. You can find \n",
    "    more matplotlib colormaps on the following link:\n",
    "    https://matplotlib.org/users/colormaps.html\n",
    "    \n",
    "    \"\"\"\n",
    "    \n",
    "    def __init__(self, volume, figsize=(8,8), cmap='gray'):\n",
    "        self.volume = volume\n",
    "        self.figsize = figsize\n",
    "        self.cmap = cmap\n",
    "        self.v = [np.min(volume), np.max(volume)]\n",
    "        \n",
    "        # Call to select slice plane\n",
    "        ipyw.interact(self.view_selection, view=ipyw.RadioButtons(\n",
    "            options=['x-y','y-z', 'z-x'], value='x-y', \n",
    "            description='Slice plane selection:', disabled=False,\n",
    "            style={'description_width': 'initial'}))\n",
    "    \n",
    "    def view_selection(self, view):\n",
    "        # Transpose the volume to orient according to the slice plane selection\n",
    "        orient = {\"y-z\":[1,2,0], \"z-x\":[2,0,1], \"x-y\": [0,1,2]}\n",
    "        self.vol = np.transpose(self.volume, orient[view])\n",
    "        maxZ = self.vol.shape[2] - 1\n",
    "        \n",
    "        # Call to view a slice within the selected slice plane\n",
    "        ipyw.interact(self.plot_slice, \n",
    "            z=ipyw.IntSlider(min=0, max=maxZ, step=1, continuous_update=False, \n",
    "            description='Image Slice:'))\n",
    "        \n",
    "    def plot_slice(self, z):\n",
    "        # Plot slice for the given plane and slice\n",
    "        self.fig = plt.figure(figsize=self.figsize)\n",
    "        plt.imshow(self.vol[:,:,z], cmap=plt.get_cmap(self.cmap), \n",
    "            vmin=self.v[0], vmax=self.v[1])\n",
    "        \n",
    "        \n"
   ]
  },
  {
   "cell_type": "code",
   "execution_count": 17,
   "metadata": {},
   "outputs": [],
   "source": [
    "vol=np.amax(y_pred_argmax[0][:,:,:,:-2],axis=(3))"
   ]
  },
  {
   "cell_type": "code",
   "execution_count": 26,
   "metadata": {},
   "outputs": [],
   "source": [
    "vol=np.amax(y_pred_argmax[0][:,:,:,:],axis=(3))"
   ]
  },
  {
   "cell_type": "code",
   "execution_count": 37,
   "metadata": {},
   "outputs": [],
   "source": [
    "vol=np.amax(true_msk[0][:,:,:,:],axis=(3))\n",
    "vol=true_msk[0][:,:,:,4]"
   ]
  },
  {
   "cell_type": "code",
   "execution_count": 64,
   "metadata": {},
   "outputs": [
    {
     "data": {
      "text/plain": [
       "array([0, 1])"
      ]
     },
     "execution_count": 64,
     "metadata": {},
     "output_type": "execute_result"
    }
   ],
   "source": [
    "np.unique(vol)"
   ]
  },
  {
   "cell_type": "code",
   "execution_count": 38,
   "metadata": {},
   "outputs": [
    {
     "data": {
      "application/vnd.jupyter.widget-view+json": {
       "model_id": "3aa3def65fa648d1a3a9657322fcb0cb",
       "version_major": 2,
       "version_minor": 0
      },
      "text/plain": [
       "interactive(children=(RadioButtons(description='Slice plane selection:', options=('x-y', 'y-z', 'z-x'), style=…"
      ]
     },
     "metadata": {},
     "output_type": "display_data"
    },
    {
     "data": {
      "text/plain": [
       "<__main__.ImageSliceViewer3D at 0x7fe4a804da90>"
      ]
     },
     "execution_count": 38,
     "metadata": {},
     "output_type": "execute_result"
    }
   ],
   "source": [
    "ImageSliceViewer3D(vol)"
   ]
  },
  {
   "cell_type": "code",
   "execution_count": 24,
   "metadata": {},
   "outputs": [],
   "source": [
    "org=test_gen.__getitem__(k)[0][0].reshape(128,128,128)"
   ]
  },
  {
   "cell_type": "code",
   "execution_count": 25,
   "metadata": {},
   "outputs": [
    {
     "data": {
      "application/vnd.jupyter.widget-view+json": {
       "model_id": "db53b547457b47a697d04a73ba528213",
       "version_major": 2,
       "version_minor": 0
      },
      "text/plain": [
       "interactive(children=(RadioButtons(description='Slice plane selection:', options=('x-y', 'y-z', 'z-x'), style=…"
      ]
     },
     "metadata": {},
     "output_type": "display_data"
    },
    {
     "data": {
      "text/plain": [
       "<__main__.ImageSliceViewer3D at 0x7fe4a85a22b0>"
      ]
     },
     "execution_count": 25,
     "metadata": {},
     "output_type": "execute_result"
    }
   ],
   "source": [
    "ImageSliceViewer3D(org)"
   ]
  },
  {
   "cell_type": "code",
   "execution_count": null,
   "metadata": {},
   "outputs": [],
   "source": [
    "k=25#15,23,9,10,20,2111#8#good5,12,18,x14,19#2#1 \n",
    "y_pred=my_model.predict(test_gen,batch_size=2)\n",
    "y_pred_argmax=np.where(y_pred>0.5,1,0)"
   ]
  },
  {
   "cell_type": "code",
   "execution_count": null,
   "metadata": {},
   "outputs": [],
   "source": [
    "true_msk=test_gen.__getitem__(k)[1]"
   ]
  },
  {
   "cell_type": "code",
   "execution_count": null,
   "metadata": {},
   "outputs": [],
   "source": [
    "print(np.unique(y_pred_argmax),np.unique(true_msk))"
   ]
  },
  {
   "cell_type": "code",
   "execution_count": null,
   "metadata": {},
   "outputs": [],
   "source": [
    "dice = compute_dice(y_pred_argmax, true_msk)\n",
    "\n",
    "print('Dice:{:.2f}'.format(dice))"
   ]
  },
  {
   "cell_type": "code",
   "execution_count": null,
   "metadata": {},
   "outputs": [],
   "source": [
    "# plt.imshow(test_gen.__getitem__(k)[0][0,:,:,10])\n",
    "# plt.show()"
   ]
  },
  {
   "cell_type": "code",
   "execution_count": null,
   "metadata": {},
   "outputs": [],
   "source": [
    "plt.imshow(true_msk[0,:,:,10,0],'gray')\n",
    "plt.show()"
   ]
  },
  {
   "cell_type": "code",
   "execution_count": null,
   "metadata": {},
   "outputs": [],
   "source": [
    "plt.imshow(y_pred_argmax[0,:,:,10,0],'gray')\n",
    "plt.show()"
   ]
  },
  {
   "cell_type": "code",
   "execution_count": null,
   "metadata": {},
   "outputs": [],
   "source": []
  },
  {
   "cell_type": "code",
   "execution_count": null,
   "metadata": {},
   "outputs": [],
   "source": []
  }
 ],
 "metadata": {
  "kernelspec": {
   "display_name": "tf_gpu",
   "language": "python",
   "name": "tf_gpu"
  }
 },
 "nbformat": 4,
 "nbformat_minor": 5
}
